{
 "cells": [
  {
   "cell_type": "code",
   "execution_count": 18,
   "metadata": {},
   "outputs": [
    {
     "name": "stdout",
     "output_type": "stream",
     "text": [
      "_________________________________________________________________________________\n",
      "\n",
      "\t\t\tEnergy Consumption Adjustment Script\n",
      "\t\t\t\tTecumseh do Brasil LTDA.\n",
      "_________________________________________________________________________________\n",
      "\n",
      "Developed by Débora Ramos Romagnolo -  Maintenance Technical Assistant - 2019\n",
      "_________________________________________________________________________________\n",
      "\n",
      "Cost Apportionment opened with success!\n",
      "Data Inicial: \t01/02/19 00:00\n",
      "Data Final: \t01/03/19 00:00\n",
      "\n",
      "\n",
      "Source: [00] Controle Geral\t\n",
      "\n",
      "Rows: 20 \n",
      "\n",
      "Registers:\n",
      "MBU1\n",
      "MBU2\n",
      "LABORATÓRIOS\n",
      "MANUTENÇÃO/FERRAMENTARIA\n",
      "COMPRESSOR\n",
      "['MBU1', '4272418.3', 'MBU2', '1117792.9', 'LABORATÓRIOS', '149706.2', 'MANUTENÇÃO/FERRAMENTARIA', '25260.0', 'COMPRESSOR', '466222.3']\n",
      "4272418.3 1117792.9 149706.2 25260.0 466222.3\n"
     ]
    }
   ],
   "source": [
    "#1 - Insert Gestal comsumption apointment using Smart32 management software\n",
    "\n",
    "def count(fname):\n",
    "    return sum(1 for line in open(fname))\n",
    "#plant 1 - inputs\n",
    "\n",
    "#MBU1\n",
    "#MBU2\n",
    "#Compressor\n",
    "#Laboratories\n",
    "#Maintenance and Tooling\n",
    "\n",
    "plant1 = []\n",
    "print(\"_________________________________________________________________________________\\n\")\n",
    "print(\"\\t\\t\\tEnergy Consumption Adjustment Script\")\n",
    "print(\"\\t\\t\\t\\tTecumseh do Brasil LTDA.\")\n",
    "print(\"_________________________________________________________________________________\")\n",
    "print(\"\\nDeveloped by Débora Ramos Romagnolo -  Maintenance Technical Assistant - 2019\")\n",
    "print(\"_________________________________________________________________________________\\n\")\n",
    "\n",
    "\n",
    "fileName = \"C:/Users/debora.romagnolo/Desktop/Python/RATEIO_27_03_2019_10_11_50.txt\"\n",
    "\n",
    "file = open(fileName, 'r')\n",
    "archiveList = file.readlines() #transform the readed txt file in a list\n",
    "file.close()\n",
    "\n",
    "numRows = count(fileName)\n",
    "\n",
    "print(\"Cost Apportionment opened with success!\")\n",
    "print(archiveList[4].strip())\n",
    "print(archiveList[5].strip())\n",
    "\n",
    "print(\"\\n\")\n",
    "print(\"Source:\" , archiveList[11]) #source row = 11\n",
    "print(\"Rows:\" , numRows , \"\\n\")\n",
    "print(\"Registers:\")\n",
    "\n",
    "costList = []\n",
    "consumptionList = []\n",
    "\n",
    "for i in range(12,17):\n",
    "    #print(archiveList[i].strip())\n",
    "    transition = archiveList[i].split()\n",
    "    print(transition[0])\n",
    "    \n",
    "    consumptionList.append(transition[0])\n",
    "    consumptionList.append(transition[1])\n",
    "    \n",
    "print(consumptionList)\n",
    "\n",
    "#medidas diretas do gestal\n",
    "mbu1 = float(consumptionList[1])\n",
    "mbu2 = float(consumptionList[3])\n",
    "labs = float(consumptionList[5])\n",
    "manut = float(consumptionList[7])\n",
    "compressor = float(consumptionList[9])\n",
    "totalGestal = mbu1 + mbu2 + labs + manut + compressor\n",
    "\n",
    "print(mbu1 , mbu2, labs, manut, compressor)"
   ]
  },
  {
   "cell_type": "code",
   "execution_count": 19,
   "metadata": {},
   "outputs": [
    {
     "name": "stdout",
     "output_type": "stream",
     "text": [
      "correção com compressor:\n",
      "MBU1:  4272418.3\n",
      "MBU2:  1117792.9\n",
      "147583.72717560074 24901.87412716156 4487613.148974942 1285790.249722296\n"
     ]
    }
   ],
   "source": [
    "#correção de consumo com contribuição do compressor\n",
    "print(\"correção com compressor:\")\n",
    "print(\"MBU1: \" , mbu1)\n",
    "print(\"MBU2: \" , mbu2)\n",
    "\n",
    "#Informações de fechamento\n",
    "\n",
    "#produção da fundição - Kelli/Diego\n",
    "fundInterno = 655131\n",
    "fundExterno = 990763\n",
    "\n",
    "#Memória de Massa - CPFL\n",
    "cpfl = 5945889\n",
    "\n",
    "fundTotal = fundInterno + fundExterno\n",
    "\n",
    "#razão da produção de fundidos\n",
    "rInterna = fundInterno/fundTotal\n",
    "rExterna = fundExterno/fundTotal\n",
    "\n",
    "#Correções\n",
    "consumoExterno = rExterna*((cpfl/totalGestal)*(mbu1 + 0.6*compressor))\n",
    "consumoInterno = rInterna*((cpfl/totalGestal)*(mbu1 + 0.6*compressor))\n",
    "mbu1 = consumoExterno + consumoInterno\n",
    "\n",
    "labs = (labs/(totalGestal))*cpfl\n",
    "manut = (manut/(totalGestal))*cpfl\n",
    "compressor = (compressor/(totalGestal))*cpfl\n",
    "mbu2 = (mbu2/totalGestal)*cpfl + 0.4*compressor\n",
    "\n",
    "print(labs , manut , mbu1, mbu2)"
   ]
  },
  {
   "cell_type": "code",
   "execution_count": 77,
   "metadata": {},
   "outputs": [
    {
     "data": {
      "text/plain": [
       "['oie', 'ois']"
      ]
     },
     "execution_count": 77,
     "metadata": {},
     "output_type": "execute_result"
    }
   ],
   "source": [
    "test"
   ]
  },
  {
   "cell_type": "code",
   "execution_count": 81,
   "metadata": {},
   "outputs": [
    {
     "name": "stdout",
     "output_type": "stream",
     "text": [
      "ok\n"
     ]
    }
   ],
   "source": [
    "if test[0] == \"oie\":\n",
    "    print(\"ok\")\n",
    "else:\n",
    "    print(\"no\")"
   ]
  },
  {
   "cell_type": "code",
   "execution_count": null,
   "metadata": {},
   "outputs": [],
   "source": []
  }
 ],
 "metadata": {
  "kernelspec": {
   "display_name": "Python 3",
   "language": "python",
   "name": "python3"
  },
  "language_info": {
   "codemirror_mode": {
    "name": "ipython",
    "version": 3
   },
   "file_extension": ".py",
   "mimetype": "text/x-python",
   "name": "python",
   "nbconvert_exporter": "python",
   "pygments_lexer": "ipython3",
   "version": "3.7.1"
  }
 },
 "nbformat": 4,
 "nbformat_minor": 2
}
